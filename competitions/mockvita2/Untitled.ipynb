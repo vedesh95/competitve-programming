{
 "cells": [
  {
   "cell_type": "code",
   "execution_count": 22,
   "metadata": {},
   "outputs": [
    {
     "name": "stdout",
     "output_type": "stream",
     "text": [
      "25 30 35 20 90 110 45 70 80 12 30 35 85\n",
      "337\n"
     ]
    }
   ],
   "source": [
    "li=[int(x) for x in input().split()]\n",
    "\n",
    "def util(tw,wt,val,n):   \n",
    "    rows, cols = (n+1, tw+1) \n",
    "    dp = [[0]*cols]*rows \n",
    "    for i in range(1,n+1):\n",
    "        for j in range(1<tw+1):\n",
    "            dp[i][j]=dp[i][j-1]\n",
    "            if(wt[i-1]<=j):\n",
    "                temp=dp[i-1][j-wt[i-1]]+val[i-1]\n",
    "                if(dp[i][j]<temp):\n",
    "                    dp[i][j]=temp\n",
    "    return dp[n][tw]\n",
    "sum=0\n",
    "for i in li:\n",
    "    sum=sum+i\n",
    "temp=util(sum/2,li,li,len(s))\n",
    "print(max(sum-temp,temp)\n",
    "li.sort(reverse=True)\n",
    "sum1=li[0]\n",
    "sum2=li[1]\n",
    "for i in range(2,len(li)):\n",
    "    if(sum1<=sum2):\n",
    "        sum1=sum1+li[i]\n",
    "    else: \n",
    "        sum2=sum2+li[i]\n",
    "print(max(sum1,sum2))"
   ]
  },
  {
   "cell_type": "code",
   "execution_count": 23,
   "metadata": {},
   "outputs": [
    {
     "name": "stdout",
     "output_type": "stream",
     "text": [
      "25 30 35 20 90 110 45 70 80 12 30 35 85\n"
     ]
    },
    {
     "data": {
      "text/plain": [
       "[110, 90, 85, 80, 70, 45, 35, 35, 30, 30, 25, 20, 12]"
      ]
     },
     "execution_count": 23,
     "metadata": {},
     "output_type": "execute_result"
    }
   ],
   "source": [
    "li=[int(x) for x in input().split()]\n",
    "li.sort(reverse=True)\n",
    "li"
   ]
  },
  {
   "cell_type": "code",
   "execution_count": 34,
   "metadata": {},
   "outputs": [
    {
     "data": {
      "text/plain": [
       "330"
      ]
     },
     "execution_count": 34,
     "metadata": {},
     "output_type": "execute_result"
    }
   ],
   "source": [
    "110+85+45+35+30+25"
   ]
  },
  {
   "cell_type": "code",
   "execution_count": 33,
   "metadata": {},
   "outputs": [
    {
     "data": {
      "text/plain": [
       "337"
      ]
     },
     "execution_count": 33,
     "metadata": {},
     "output_type": "execute_result"
    }
   ],
   "source": [
    "90+80+70+35+30+20+12"
   ]
  },
  {
   "cell_type": "code",
   "execution_count": 17,
   "metadata": {},
   "outputs": [
    {
     "name": "stdout",
     "output_type": "stream",
     "text": [
      "1\n"
     ]
    }
   ],
   "source": [
    "90, 70, 35, 30, 110 "
   ]
  },
  {
   "cell_type": "code",
   "execution_count": 15,
   "metadata": {},
   "outputs": [
    {
     "data": {
      "text/plain": [
       "[3, 2, 1]"
      ]
     },
     "execution_count": 15,
     "metadata": {},
     "output_type": "execute_result"
    }
   ],
   "source": [
    "li"
   ]
  },
  {
   "cell_type": "code",
   "execution_count": 35,
   "metadata": {},
   "outputs": [
    {
     "ename": "SyntaxError",
     "evalue": "invalid syntax (<ipython-input-35-8e439a4e8333>, line 1)",
     "output_type": "error",
     "traceback": [
      "\u001b[0;36m  File \u001b[0;32m\"<ipython-input-35-8e439a4e8333>\"\u001b[0;36m, line \u001b[0;32m1\u001b[0m\n\u001b[0;31m    int knapSack(int tw, int wt[], int val[], int n)\u001b[0m\n\u001b[0m               ^\u001b[0m\n\u001b[0;31mSyntaxError\u001b[0m\u001b[0;31m:\u001b[0m invalid syntax\n"
     ]
    }
   ],
   "source": [
    "# int knapSack(int tw, int wt[], int val[], int n) \n",
    "# { \n",
    "#    // Your code herej\n",
    "#    vector<vector<int> >dp(n+1,vector<int> (tw+1,0));\n",
    "   \n",
    "#    for(int i=1;i<n+1;i++){\n",
    "#        for(int j=1;j<tw+1;j++){\n",
    "#            dp[i][j]=dp[i-1][j];\n",
    "#            if(wt[i-1]<=j){\n",
    "#                int temp=dp[i-1][j-wt[i-1]]+val[i-1];\n",
    "#                if(dp[i][j]<temp){\n",
    "#                    dp[i][j]=temp;\n",
    "#                }\n",
    "#            }\n",
    "#        }\n",
    "#    }\n",
    "# //   for(int i=0;i<n+1;i++){\n",
    "# //       for(int j=0;j<tw+1;j++){\n",
    "# //           cout<<dp[i][j]<<\" \";\n",
    "# //       }\n",
    "# //         cout<<endl;\n",
    "       \n",
    "# //   }\n",
    "   \n",
    "#    return dp[n][tw];\n",
    "# }"
   ]
  },
  {
   "cell_type": "code",
   "execution_count": 36,
   "metadata": {},
   "outputs": [],
   "source": [
    "def util(tw,wt,val,n):   \n",
    "    rows, cols = (n+1, tw+1) \n",
    "    dp = [[0]*cols]*rows \n",
    "    for i in range(1,n+1):\n",
    "        for j in range(1<tw+1):\n",
    "            dp[i][j]=dp[i][j-1]\n",
    "            if(wt[i-1]<=j):\n",
    "                temp=dp[i-1][j-wt[i-1]]+val[i-1]\n",
    "                if(dp[i][j]<temp):\n",
    "                    dp[i][j]=temp\n",
    "    return dp[n][tw]"
   ]
  },
  {
   "cell_type": "code",
   "execution_count": 25,
   "metadata": {},
   "outputs": [
    {
     "name": "stdout",
     "output_type": "stream",
     "text": [
      "25 30 35 20 90 110 45 70 80 12 30 35 85\n",
      "335\n"
     ]
    }
   ],
   "source": [
    "li=[int(x) for x in input().split()]\n",
    "\n",
    "def util(tw,wt,val,n):   \n",
    "    rows, cols = (n+2, tw+2) \n",
    "    dp = [[0]*cols]*rows \n",
    "    for i in range(1,n+1):\n",
    "        for j in range(1,tw+1):\n",
    "            dp[i][j]=dp[i-1][j]\n",
    "            if(wt[i-1]<=j):\n",
    "                temp=dp[i-1][j-wt[i-1]]+val[i-1]\n",
    "                if(dp[i][j]<temp):\n",
    "                    dp[i][j]=temp\n",
    "#             print(dp[i][j],end=' ')\n",
    "#         print(\"\\n\")\n",
    "    return dp[n][tw]\n",
    "\n",
    "sum=0\n",
    "for i in li:\n",
    "    sum=sum+i\n",
    "# print(sum)\n",
    "temp=util(sum//2+2,li,li,len(li))\n",
    "print(max(temp,sum-temp))\n"
   ]
  },
  {
   "cell_type": "code",
   "execution_count": 2,
   "metadata": {},
   "outputs": [
    {
     "name": "stdout",
     "output_type": "stream",
     "text": [
      "122\n"
     ]
    }
   ],
   "source": [
    "print(122)"
   ]
  },
  {
   "cell_type": "code",
   "execution_count": null,
   "metadata": {},
   "outputs": [],
   "source": [
    "li=[int(x) for x in input().split()]\n",
    "\n",
    "def util(tw,wt,val,n):   \n",
    "    rows, cols = (n+2, tw+2) \n",
    "    dp = [[0]*cols]*rows \n",
    "    for i in range(1,n+1):\n",
    "        for j in range(1,tw+1):\n",
    "            dp[i][j]=dp[i-1][j]\n",
    "            if(wt[i-1]<=j):\n",
    "                temp=dp[i-1][j-wt[i-1]]+val[i-1]\n",
    "                if(dp[i][j]<temp):\n",
    "                    dp[i][j]=temp\n",
    "            print(dp[i][j],end=' ')\n",
    "        print(\"\\n\")\n",
    "    return dp[n][tw]\n",
    "\n",
    "sum=0\n",
    "for i in li:\n",
    "    sum=sum+i\n",
    "# print(sum)\n",
    "templi=[1]*len(li)\n",
    "# print(templi)\n",
    "temp=util(len(li)//2,templi,li,len(li))\n",
    "print(max(temp,sum-temp))"
   ]
  }
 ],
 "metadata": {
  "kernelspec": {
   "display_name": "Python 3",
   "language": "python",
   "name": "python3"
  },
  "language_info": {
   "codemirror_mode": {
    "name": "ipython",
    "version": 3
   },
   "file_extension": ".py",
   "mimetype": "text/x-python",
   "name": "python",
   "nbconvert_exporter": "python",
   "pygments_lexer": "ipython3",
   "version": "3.7.6"
  }
 },
 "nbformat": 4,
 "nbformat_minor": 4
}
